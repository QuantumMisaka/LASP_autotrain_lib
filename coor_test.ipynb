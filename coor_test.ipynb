{
 "cells": [
  {
   "cell_type": "code",
   "execution_count": 1,
   "metadata": {},
   "outputs": [],
   "source": [
    "from coordination_pattern import CoordinationPatterns"
   ]
  },
  {
   "cell_type": "code",
   "execution_count": 2,
   "metadata": {},
   "outputs": [],
   "source": [
    "arc_init = CoordinationPatterns()\n",
    "arc_init.read_coordination_json('test/Au8Pd8O24_patterns_full.json')"
   ]
  },
  {
   "cell_type": "code",
   "execution_count": 3,
   "metadata": {},
   "outputs": [],
   "source": [
    "json_str = arc_init.print_all_coordination_full()\n",
    "arc_init.save_file(json_str, 'test.json')\n",
    "# with open('test.json', 'w') as fo:\n",
    "# #   fo.write(json_str)"
   ]
  }
 ],
 "metadata": {
  "interpreter": {
   "hash": "153805e27ba734a804fc3a7ff7d0b863581484dd7c2627f0e2e10c5d10c3e4ea"
  },
  "kernelspec": {
   "display_name": "Python 3.8.10 ('research')",
   "language": "python",
   "name": "python3"
  },
  "language_info": {
   "codemirror_mode": {
    "name": "ipython",
    "version": 3
   },
   "file_extension": ".py",
   "mimetype": "text/x-python",
   "name": "python",
   "nbconvert_exporter": "python",
   "pygments_lexer": "ipython3",
   "version": "3.8.10"
  },
  "orig_nbformat": 4
 },
 "nbformat": 4,
 "nbformat_minor": 2
}
